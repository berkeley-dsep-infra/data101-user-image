{
 "cells": [
  {
   "cell_type": "markdown",
   "id": "ef67ff30",
   "metadata": {},
   "source": [
    "# Lecture 05 -- DDL, DML & Constraints"
   ]
  },
  {
   "cell_type": "code",
   "execution_count": 27,
   "id": "14aae7e8",
   "metadata": {},
   "outputs": [],
   "source": [
    "# Run this cell to set up imports\n",
    "import numpy as np\n",
    "import pandas as pd"
   ]
  },
  {
   "cell_type": "code",
   "execution_count": 28,
   "id": "37af279c",
   "metadata": {},
   "outputs": [],
   "source": [
    "%reload_ext sql"
   ]
  },
  {
   "cell_type": "code",
   "execution_count": 29,
   "id": "bfbc2487",
   "metadata": {},
   "outputs": [
    {
     "name": "stdout",
     "output_type": "stream",
     "text": [
      "createdb: error: database creation failed: ERROR:  database \"lecture5\" already exists\n"
     ]
    }
   ],
   "source": [
    "!createdb lecture5 -h localhost"
   ]
  },
  {
   "cell_type": "code",
   "execution_count": 30,
   "id": "83c8ef18",
   "metadata": {},
   "outputs": [],
   "source": [
    "%sql postgresql://127.0.0.1:5432/lecture5"
   ]
  },
  {
   "cell_type": "markdown",
   "id": "3af27072",
   "metadata": {},
   "source": [
    "# Manager demo"
   ]
  },
  {
   "cell_type": "markdown",
   "id": "2f894bf4",
   "metadata": {},
   "source": [
    "Creating the manager relation"
   ]
  },
  {
   "cell_type": "code",
   "execution_count": 31,
   "id": "4d61639c",
   "metadata": {},
   "outputs": [
    {
     "data": {
      "text/html": [
       "<span style=\"None\">Running query in &#x27;postgresql://127.0.0.1:5432/lecture5&#x27;</span>"
      ],
      "text/plain": [
       "Running query in 'postgresql://127.0.0.1:5432/lecture5'"
      ]
     },
     "metadata": {},
     "output_type": "display_data"
    },
    {
     "data": {
      "text/html": [
       "<table>\n",
       "    <thead>\n",
       "        <tr>\n",
       "            <th>manager_name</th>\n",
       "            <th>age</th>\n",
       "            <th>address</th>\n",
       "            <th>manager_id</th>\n",
       "        </tr>\n",
       "    </thead>\n",
       "    <tbody>\n",
       "    </tbody>\n",
       "</table>"
      ],
      "text/plain": [
       "+--------------+-----+---------+------------+\n",
       "| manager_name | age | address | manager_id |\n",
       "+--------------+-----+---------+------------+\n",
       "+--------------+-----+---------+------------+"
      ]
     },
     "execution_count": 31,
     "metadata": {},
     "output_type": "execute_result"
    }
   ],
   "source": [
    "%%sql\n",
    "\n",
    "DROP TABLE IF EXISTS managers;\n",
    "CREATE TABLE managers (\n",
    "    manager_name VARCHAR(20),\n",
    "    age INTEGER,\n",
    "    address TEXT,\n",
    "    manager_id INTEGER\n",
    ");\n",
    "SELECT * FROM managers;"
   ]
  },
  {
   "cell_type": "markdown",
   "id": "d21cd8d4",
   "metadata": {},
   "source": [
    "<br/><br/>\n",
    "\n",
    "Add a tuple"
   ]
  },
  {
   "cell_type": "code",
   "execution_count": 32,
   "id": "426986ff",
   "metadata": {},
   "outputs": [
    {
     "data": {
      "text/html": [
       "<span style=\"None\">Running query in &#x27;postgresql://127.0.0.1:5432/lecture5&#x27;</span>"
      ],
      "text/plain": [
       "Running query in 'postgresql://127.0.0.1:5432/lecture5'"
      ]
     },
     "metadata": {},
     "output_type": "display_data"
    },
    {
     "data": {
      "text/html": [
       "<span style=\"color: green\">2 rows affected.</span>"
      ],
      "text/plain": [
       "2 rows affected."
      ]
     },
     "metadata": {},
     "output_type": "display_data"
    },
    {
     "data": {
      "text/html": [
       "<span style=\"color: green\">2 rows affected.</span>"
      ],
      "text/plain": [
       "2 rows affected."
      ]
     },
     "metadata": {},
     "output_type": "display_data"
    },
    {
     "data": {
      "text/html": [
       "<table>\n",
       "    <thead>\n",
       "        <tr>\n",
       "            <th>manager_name</th>\n",
       "            <th>age</th>\n",
       "            <th>address</th>\n",
       "            <th>manager_id</th>\n",
       "        </tr>\n",
       "    </thead>\n",
       "    <tbody>\n",
       "        <tr>\n",
       "            <td>Aditya</td>\n",
       "            <td>23</td>\n",
       "            <td>None</td>\n",
       "            <td>1</td>\n",
       "        </tr>\n",
       "        <tr>\n",
       "            <td>Lisa</td>\n",
       "            <td>23</td>\n",
       "            <td>None</td>\n",
       "            <td>2</td>\n",
       "        </tr>\n",
       "    </tbody>\n",
       "</table>"
      ],
      "text/plain": [
       "+--------------+-----+---------+------------+\n",
       "| manager_name | age | address | manager_id |\n",
       "+--------------+-----+---------+------------+\n",
       "|    Aditya    |  23 |   None  |     1      |\n",
       "|     Lisa     |  23 |   None  |     2      |\n",
       "+--------------+-----+---------+------------+"
      ]
     },
     "execution_count": 32,
     "metadata": {},
     "output_type": "execute_result"
    }
   ],
   "source": [
    "%%sql\n",
    "INSERT INTO managers\n",
    "    (manager_id, age, manager_name)\n",
    "VALUES\n",
    "    (1, 23, 'Aditya'),\n",
    "    (2, 23, 'Lisa')\n",
    ";\n",
    "\n",
    "/***********/\n",
    "SELECT * FROM managers;"
   ]
  },
  {
   "cell_type": "markdown",
   "id": "0b8d6135-bc8a-437b-bf69-98637fe83130",
   "metadata": {},
   "source": [
    "What if we add a new tuple?"
   ]
  },
  {
   "cell_type": "code",
   "execution_count": 33,
   "id": "01ab30ff-fbbd-4547-b7fc-fdabe6104884",
   "metadata": {},
   "outputs": [
    {
     "data": {
      "text/html": [
       "<span style=\"None\">Running query in &#x27;postgresql://127.0.0.1:5432/lecture5&#x27;</span>"
      ],
      "text/plain": [
       "Running query in 'postgresql://127.0.0.1:5432/lecture5'"
      ]
     },
     "metadata": {},
     "output_type": "display_data"
    },
    {
     "data": {
      "text/html": [
       "<span style=\"color: green\">1 rows affected.</span>"
      ],
      "text/plain": [
       "1 rows affected."
      ]
     },
     "metadata": {},
     "output_type": "display_data"
    },
    {
     "data": {
      "text/html": [
       "<span style=\"color: green\">3 rows affected.</span>"
      ],
      "text/plain": [
       "3 rows affected."
      ]
     },
     "metadata": {},
     "output_type": "display_data"
    },
    {
     "data": {
      "text/html": [
       "<table>\n",
       "    <thead>\n",
       "        <tr>\n",
       "            <th>manager_name</th>\n",
       "            <th>age</th>\n",
       "            <th>address</th>\n",
       "            <th>manager_id</th>\n",
       "        </tr>\n",
       "    </thead>\n",
       "    <tbody>\n",
       "        <tr>\n",
       "            <td>Aditya</td>\n",
       "            <td>23</td>\n",
       "            <td>None</td>\n",
       "            <td>1</td>\n",
       "        </tr>\n",
       "        <tr>\n",
       "            <td>Lisa</td>\n",
       "            <td>23</td>\n",
       "            <td>None</td>\n",
       "            <td>2</td>\n",
       "        </tr>\n",
       "        <tr>\n",
       "            <td>Michael</td>\n",
       "            <td>123</td>\n",
       "            <td>None</td>\n",
       "            <td>1</td>\n",
       "        </tr>\n",
       "    </tbody>\n",
       "</table>"
      ],
      "text/plain": [
       "+--------------+-----+---------+------------+\n",
       "| manager_name | age | address | manager_id |\n",
       "+--------------+-----+---------+------------+\n",
       "|    Aditya    |  23 |   None  |     1      |\n",
       "|     Lisa     |  23 |   None  |     2      |\n",
       "|   Michael    | 123 |   None  |     1      |\n",
       "+--------------+-----+---------+------------+"
      ]
     },
     "execution_count": 33,
     "metadata": {},
     "output_type": "execute_result"
    }
   ],
   "source": [
    "%%sql\n",
    "INSERT INTO managers\n",
    "    (manager_id, manager_name, age)\n",
    "VALUES\n",
    "    (1, 'Michael', 123);\n",
    "\n",
    "/***********/\n",
    "SELECT * FROM managers;"
   ]
  },
  {
   "cell_type": "markdown",
   "id": "fdc1b25c-9a8d-43f3-bed2-82f1b64021b5",
   "metadata": {},
   "source": [
    "Whoops! We can have two tuples with the same ID!\n",
    "\n",
    "**Alternate Managers Schema**\n",
    "\n",
    "One way to to fix is to let the system set the ID. \n",
    "This replaces the `manager_id` type with a `SERIAL` instead of an `INTEGER`.\n"
   ]
  },
  {
   "cell_type": "code",
   "execution_count": 34,
   "id": "999b7c07-379c-44e8-9e7b-884351255579",
   "metadata": {},
   "outputs": [
    {
     "data": {
      "text/html": [
       "<span style=\"None\">Running query in &#x27;postgresql://127.0.0.1:5432/lecture5&#x27;</span>"
      ],
      "text/plain": [
       "Running query in 'postgresql://127.0.0.1:5432/lecture5'"
      ]
     },
     "metadata": {},
     "output_type": "display_data"
    },
    {
     "data": {
      "text/html": [
       "<table>\n",
       "    <thead>\n",
       "        <tr>\n",
       "            <th>manager_name</th>\n",
       "            <th>age</th>\n",
       "            <th>address</th>\n",
       "            <th>manager_id</th>\n",
       "        </tr>\n",
       "    </thead>\n",
       "    <tbody>\n",
       "    </tbody>\n",
       "</table>"
      ],
      "text/plain": [
       "+--------------+-----+---------+------------+\n",
       "| manager_name | age | address | manager_id |\n",
       "+--------------+-----+---------+------------+\n",
       "+--------------+-----+---------+------------+"
      ]
     },
     "execution_count": 34,
     "metadata": {},
     "output_type": "execute_result"
    }
   ],
   "source": [
    "%%sql\n",
    "DROP TABLE IF EXISTS managers;\n",
    "CREATE TABLE managers(\n",
    "    manager_name VARCHAR(20),\n",
    "    age INTEGER,\n",
    "    address TEXT,\n",
    "    manager_id SERIAL\n",
    ");\n",
    "\n",
    "/***********/\n",
    "SELECT * FROM managers;"
   ]
  },
  {
   "cell_type": "code",
   "execution_count": 35,
   "id": "455feb25-15ab-4357-993e-04d9ee523773",
   "metadata": {},
   "outputs": [
    {
     "data": {
      "text/html": [
       "<span style=\"None\">Running query in &#x27;postgresql://127.0.0.1:5432/lecture5&#x27;</span>"
      ],
      "text/plain": [
       "Running query in 'postgresql://127.0.0.1:5432/lecture5'"
      ]
     },
     "metadata": {},
     "output_type": "display_data"
    },
    {
     "data": {
      "text/html": [
       "<span style=\"color: green\">2 rows affected.</span>"
      ],
      "text/plain": [
       "2 rows affected."
      ]
     },
     "metadata": {},
     "output_type": "display_data"
    },
    {
     "data": {
      "text/html": [
       "<span style=\"color: green\">2 rows affected.</span>"
      ],
      "text/plain": [
       "2 rows affected."
      ]
     },
     "metadata": {},
     "output_type": "display_data"
    },
    {
     "data": {
      "text/html": [
       "<table>\n",
       "    <thead>\n",
       "        <tr>\n",
       "            <th>manager_name</th>\n",
       "            <th>age</th>\n",
       "            <th>address</th>\n",
       "            <th>manager_id</th>\n",
       "        </tr>\n",
       "    </thead>\n",
       "    <tbody>\n",
       "        <tr>\n",
       "            <td>Aditya</td>\n",
       "            <td>23</td>\n",
       "            <td>None</td>\n",
       "            <td>1</td>\n",
       "        </tr>\n",
       "        <tr>\n",
       "            <td>Lisa</td>\n",
       "            <td>23</td>\n",
       "            <td>None</td>\n",
       "            <td>2</td>\n",
       "        </tr>\n",
       "    </tbody>\n",
       "</table>"
      ],
      "text/plain": [
       "+--------------+-----+---------+------------+\n",
       "| manager_name | age | address | manager_id |\n",
       "+--------------+-----+---------+------------+\n",
       "|    Aditya    |  23 |   None  |     1      |\n",
       "|     Lisa     |  23 |   None  |     2      |\n",
       "+--------------+-----+---------+------------+"
      ]
     },
     "execution_count": 35,
     "metadata": {},
     "output_type": "execute_result"
    }
   ],
   "source": [
    "%%sql\n",
    "INSERT INTO managers\n",
    "    (age, manager_name)\n",
    "VALUES\n",
    "    (23, 'Aditya'),\n",
    "    (23, 'Lisa')\n",
    ";\n",
    "\n",
    "SELECT * FROM managers;"
   ]
  },
  {
   "cell_type": "markdown",
   "id": "096c1fe8",
   "metadata": {},
   "source": [
    "<br/><br/>\n",
    "\n",
    "And we can add another tuple..."
   ]
  },
  {
   "cell_type": "code",
   "execution_count": 36,
   "id": "7ef3ca8c-f86f-421f-831b-9e8441a13a67",
   "metadata": {},
   "outputs": [
    {
     "data": {
      "text/html": [
       "<span style=\"None\">Running query in &#x27;postgresql://127.0.0.1:5432/lecture5&#x27;</span>"
      ],
      "text/plain": [
       "Running query in 'postgresql://127.0.0.1:5432/lecture5'"
      ]
     },
     "metadata": {},
     "output_type": "display_data"
    },
    {
     "data": {
      "text/html": [
       "<span style=\"color: green\">1 rows affected.</span>"
      ],
      "text/plain": [
       "1 rows affected."
      ]
     },
     "metadata": {},
     "output_type": "display_data"
    },
    {
     "data": {
      "text/html": [
       "<span style=\"color: green\">3 rows affected.</span>"
      ],
      "text/plain": [
       "3 rows affected."
      ]
     },
     "metadata": {},
     "output_type": "display_data"
    },
    {
     "data": {
      "text/html": [
       "<table>\n",
       "    <thead>\n",
       "        <tr>\n",
       "            <th>manager_name</th>\n",
       "            <th>age</th>\n",
       "            <th>address</th>\n",
       "            <th>manager_id</th>\n",
       "        </tr>\n",
       "    </thead>\n",
       "    <tbody>\n",
       "        <tr>\n",
       "            <td>Aditya</td>\n",
       "            <td>23</td>\n",
       "            <td>None</td>\n",
       "            <td>1</td>\n",
       "        </tr>\n",
       "        <tr>\n",
       "            <td>Lisa</td>\n",
       "            <td>23</td>\n",
       "            <td>None</td>\n",
       "            <td>2</td>\n",
       "        </tr>\n",
       "        <tr>\n",
       "            <td>Michael</td>\n",
       "            <td>123</td>\n",
       "            <td>None</td>\n",
       "            <td>3</td>\n",
       "        </tr>\n",
       "    </tbody>\n",
       "</table>"
      ],
      "text/plain": [
       "+--------------+-----+---------+------------+\n",
       "| manager_name | age | address | manager_id |\n",
       "+--------------+-----+---------+------------+\n",
       "|    Aditya    |  23 |   None  |     1      |\n",
       "|     Lisa     |  23 |   None  |     2      |\n",
       "|   Michael    | 123 |   None  |     3      |\n",
       "+--------------+-----+---------+------------+"
      ]
     },
     "execution_count": 36,
     "metadata": {},
     "output_type": "execute_result"
    }
   ],
   "source": [
    "%%sql\n",
    "INSERT INTO managers\n",
    "    (age, manager_name)\n",
    "VALUES\n",
    "    (123, 'Michael');\n",
    "\n",
    "SELECT * FROM managers;"
   ]
  },
  {
   "cell_type": "markdown",
   "id": "dfbef70b-440a-4656-86d0-fca25b688466",
   "metadata": {},
   "source": [
    "What if we update Michael's ID?"
   ]
  },
  {
   "cell_type": "code",
   "execution_count": 37,
   "id": "4664c6f3",
   "metadata": {},
   "outputs": [
    {
     "data": {
      "text/html": [
       "<span style=\"None\">Running query in &#x27;postgresql://127.0.0.1:5432/lecture5&#x27;</span>"
      ],
      "text/plain": [
       "Running query in 'postgresql://127.0.0.1:5432/lecture5'"
      ]
     },
     "metadata": {},
     "output_type": "display_data"
    },
    {
     "data": {
      "text/html": [
       "<span style=\"color: green\">1 rows affected.</span>"
      ],
      "text/plain": [
       "1 rows affected."
      ]
     },
     "metadata": {},
     "output_type": "display_data"
    },
    {
     "data": {
      "text/html": [
       "<span style=\"color: green\">3 rows affected.</span>"
      ],
      "text/plain": [
       "3 rows affected."
      ]
     },
     "metadata": {},
     "output_type": "display_data"
    },
    {
     "data": {
      "text/html": [
       "<table>\n",
       "    <thead>\n",
       "        <tr>\n",
       "            <th>manager_name</th>\n",
       "            <th>age</th>\n",
       "            <th>address</th>\n",
       "            <th>manager_id</th>\n",
       "        </tr>\n",
       "    </thead>\n",
       "    <tbody>\n",
       "        <tr>\n",
       "            <td>Aditya</td>\n",
       "            <td>23</td>\n",
       "            <td>None</td>\n",
       "            <td>1</td>\n",
       "        </tr>\n",
       "        <tr>\n",
       "            <td>Lisa</td>\n",
       "            <td>23</td>\n",
       "            <td>None</td>\n",
       "            <td>2</td>\n",
       "        </tr>\n",
       "        <tr>\n",
       "            <td>Michael</td>\n",
       "            <td>123</td>\n",
       "            <td>None</td>\n",
       "            <td>2</td>\n",
       "        </tr>\n",
       "    </tbody>\n",
       "</table>"
      ],
      "text/plain": [
       "+--------------+-----+---------+------------+\n",
       "| manager_name | age | address | manager_id |\n",
       "+--------------+-----+---------+------------+\n",
       "|    Aditya    |  23 |   None  |     1      |\n",
       "|     Lisa     |  23 |   None  |     2      |\n",
       "|   Michael    | 123 |   None  |     2      |\n",
       "+--------------+-----+---------+------------+"
      ]
     },
     "execution_count": 37,
     "metadata": {},
     "output_type": "execute_result"
    }
   ],
   "source": [
    "%%sql\n",
    "UPDATE Managers\n",
    "SET manager_id = manager_id -1\n",
    "WHERE manager_name = 'Michael';\n",
    "\n",
    "/***********/\n",
    "SELECT * FROM managers;"
   ]
  },
  {
   "cell_type": "markdown",
   "id": "86183b05-1ffa-4f5a-a580-39f890f90daf",
   "metadata": {},
   "source": [
    "Whoops! We now have two folks with the same ID"
   ]
  }
 ],
 "metadata": {
  "kernelspec": {
   "display_name": "Python 3 (ipykernel)",
   "language": "python",
   "name": "python3"
  },
  "language_info": {
   "codemirror_mode": {
    "name": "ipython",
    "version": 3
   },
   "file_extension": ".py",
   "mimetype": "text/x-python",
   "name": "python",
   "nbconvert_exporter": "python",
   "pygments_lexer": "ipython3",
   "version": "3.11.11"
  },
  "widgets": {
   "application/vnd.jupyter.widget-state+json": {
    "state": {},
    "version_major": 2,
    "version_minor": 0
   }
  }
 },
 "nbformat": 4,
 "nbformat_minor": 5
}
