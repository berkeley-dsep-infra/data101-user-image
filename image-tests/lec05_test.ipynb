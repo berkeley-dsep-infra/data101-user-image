{
 "cells": [
  {
   "cell_type": "markdown",
   "id": "ef67ff30",
   "metadata": {},
   "source": [
    "# Lecture 05 -- DDL, DML & Constraints"
   ]
  },
  {
   "cell_type": "code",
   "execution_count": 1,
   "id": "14aae7e8",
   "metadata": {},
   "outputs": [],
   "source": [
    "# Run this cell to set up imports\n",
    "import numpy as np\n",
    "import pandas as pd"
   ]
  },
  {
   "cell_type": "code",
   "execution_count": 2,
   "id": "37af279c",
   "metadata": {},
   "outputs": [],
   "source": [
    "%reload_ext sql"
   ]
  }
 ],
 "metadata": {
  "kernelspec": {
   "display_name": "Python 3 (ipykernel)",
   "language": "python",
   "name": "python3"
  },
  "language_info": {
   "codemirror_mode": {
    "name": "ipython",
    "version": 3
   },
   "file_extension": ".py",
   "mimetype": "text/x-python",
   "name": "python",
   "nbconvert_exporter": "python",
   "pygments_lexer": "ipython3",
   "version": "3.11.11"
  },
  "widgets": {
   "application/vnd.jupyter.widget-state+json": {
    "state": {},
    "version_major": 2,
    "version_minor": 0
   }
  }
 },
 "nbformat": 4,
 "nbformat_minor": 5
}
